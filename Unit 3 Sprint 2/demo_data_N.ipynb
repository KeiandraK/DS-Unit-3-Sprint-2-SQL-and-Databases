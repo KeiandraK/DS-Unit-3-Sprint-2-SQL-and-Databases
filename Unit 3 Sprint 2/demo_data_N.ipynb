{
 "cells": [
  {
   "cell_type": "code",
   "execution_count": 2,
   "metadata": {},
   "outputs": [],
   "source": [
    "import sqlite3"
   ]
  },
  {
   "cell_type": "code",
   "execution_count": 4,
   "metadata": {},
   "outputs": [],
   "source": [
    "# Creating a connection to the database\n",
    "conn = sqlite3.connect('demo_data.sqlite3')\n",
    "curs = conn.cursor()"
   ]
  },
  {
   "cell_type": "code",
   "execution_count": 50,
   "metadata": {},
   "outputs": [],
   "source": [
    "# Creating the demo_table with the columns\n",
    "def dbt_create():\n",
    "    table = '''CREATE TABLE demo_table3(\n",
    "    s text NOT NULL,\n",
    "    x int NOT NULL,\n",
    "    y int NOT NULL\n",
    "    )'''\n",
    "    curs.execute(table)"
   ]
  },
  {
   "cell_type": "code",
   "execution_count": 51,
   "metadata": {},
   "outputs": [],
   "source": [
    "dbt_create()"
   ]
  },
  {
   "cell_type": "code",
   "execution_count": 52,
   "metadata": {},
   "outputs": [],
   "source": [
    "# Adding rows to the demo_table \n",
    "def dbt_insert():\n",
    "    table2= '''INSERT INTO demo_table VALUES\n",
    "        ('g', 3, 9),\n",
    "        ('v', 5, 7),\n",
    "        ('f', 8, 7)'''\n",
    "    curs.execute(table2)"
   ]
  },
  {
   "cell_type": "code",
   "execution_count": 53,
   "metadata": {},
   "outputs": [],
   "source": [
    "dbt_insert()"
   ]
  },
  {
   "cell_type": "code",
   "execution_count": 54,
   "metadata": {},
   "outputs": [],
   "source": [
    "# Saving and committing data to the table and database\n",
    "def dbt_save():\n",
    "    conn.commit()"
   ]
  },
  {
   "cell_type": "code",
   "execution_count": 56,
   "metadata": {},
   "outputs": [],
   "source": [
    "dbt_save()"
   ]
  },
  {
   "cell_type": "code",
   "execution_count": 57,
   "metadata": {},
   "outputs": [],
   "source": [
    "# COunting all the rows\n",
    "def row_count():\n",
    "    q1= ''' SELECT COUNT (s) FROM demo_table'''\n",
    "    curs.execute(q1)\n",
    "    return curs.fetchall()"
   ]
  },
  {
   "cell_type": "code",
   "execution_count": 58,
   "metadata": {},
   "outputs": [
    {
     "data": {
      "text/plain": [
       "[(3,)]"
      ]
     },
     "execution_count": 58,
     "metadata": {},
     "output_type": "execute_result"
    }
   ],
   "source": [
    "row_count()"
   ]
  },
  {
   "cell_type": "code",
   "execution_count": 63,
   "metadata": {},
   "outputs": [],
   "source": [
    "# Query rows greater than 5\n",
    "def min_count():\n",
    "    q2 = ''' SELECT COUNT(*) FROM demo_table \n",
    "    WHERE x >=5 and y >=5'''\n",
    "    curs.execute(q2)\n",
    "    return curs.fetchall()"
   ]
  },
  {
   "cell_type": "code",
   "execution_count": 64,
   "metadata": {},
   "outputs": [
    {
     "data": {
      "text/plain": [
       "[(2,)]"
      ]
     },
     "execution_count": 64,
     "metadata": {},
     "output_type": "execute_result"
    }
   ],
   "source": [
    "min_count()"
   ]
  },
  {
   "cell_type": "code",
   "execution_count": 65,
   "metadata": {},
   "outputs": [],
   "source": [
    "# Counting the Unique y values\n",
    "\n",
    "def unique_count():\n",
    "    q4 = '''SELECT COUNT(DISTINCT y) FROM demo_table'''\n",
    "    curs.execute(q4)\n",
    "    return curs.fetchall()\n"
   ]
  },
  {
   "cell_type": "code",
   "execution_count": 66,
   "metadata": {},
   "outputs": [
    {
     "data": {
      "text/plain": [
       "[(2,)]"
      ]
     },
     "execution_count": 66,
     "metadata": {},
     "output_type": "execute_result"
    }
   ],
   "source": [
    "unique_count()"
   ]
  }
 ],
 "metadata": {
  "kernelspec": {
   "display_name": "Python 3",
   "language": "python",
   "name": "python3"
  },
  "language_info": {
   "codemirror_mode": {
    "name": "ipython",
    "version": 3
   },
   "file_extension": ".py",
   "mimetype": "text/x-python",
   "name": "python",
   "nbconvert_exporter": "python",
   "pygments_lexer": "ipython3",
   "version": "3.7.4"
  }
 },
 "nbformat": 4,
 "nbformat_minor": 4
}
